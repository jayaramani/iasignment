{
 "cells": [
  {
   "cell_type": "markdown",
   "metadata": {},
   "source": [
    "# Task 1\n",
    "1.1\n",
    "Write a Python Program to implement your own myreduce() function which works exactly like\n",
    "Python's built-in function reduce()"
   ]
  },
  {
   "cell_type": "code",
   "execution_count": 1,
   "metadata": {},
   "outputs": [
    {
     "data": {
      "text/plain": [
       "29"
      ]
     },
     "execution_count": 1,
     "metadata": {},
     "output_type": "execute_result"
    }
   ],
   "source": [
    "def add(a,b):\n",
    "    return a+b\n",
    "def myreduce(add,mylist):\n",
    "    b=0\n",
    "    for i in range(0,len(mylist)):\n",
    "        if i==0:\n",
    "            b=add(mylist[i],mylist[i+1])\n",
    "        elif i+1<len(mylist):\n",
    "            b=add(b,mylist[i+1])\n",
    "    return b        \n",
    "l=[3,4,5,2,7,8]            \n",
    "myreduce(add,l)        "
   ]
  },
  {
   "cell_type": "markdown",
   "metadata": {},
   "source": [
    "1.2 Write a Python program to implement your own myfilter() function which works exactly like\n",
    "Python's built-in function filter()"
   ]
  },
  {
   "cell_type": "code",
   "execution_count": 2,
   "metadata": {},
   "outputs": [
    {
     "name": "stdout",
     "output_type": "stream",
     "text": [
      "[4, 6, 4, 8, 2]\n"
     ]
    }
   ],
   "source": [
    "\n",
    "def myeven(l):\n",
    "    b=list()\n",
    "    for i in l:\n",
    "        if i%2==0:\n",
    "            b.append(i)\n",
    "    return b    \n",
    "        \n",
    "def myfilter(myfun,myiter):\n",
    "   a=myfun(myiter)\n",
    "   return a\n",
    "\n",
    "l=[4,3,6,4,8,2]\n",
    "c=myfilter(myeven,l)\n",
    "print(c)        "
   ]
  },
  {
   "cell_type": "raw",
   "metadata": {},
   "source": [
    "2.\n",
    "Implement List comprehensions to produce the following lists.\n",
    "Write List comprehensions to produce the following Lists\n",
    "['A', 'C', 'A', 'D', 'G', 'I', ’L’, ‘ D’]\n",
    "['x', 'xx', 'xxx', 'xxxx', 'y', 'yy', 'yyy', 'yyyy', 'z', 'zz', 'zzz', 'zzzz']\n",
    "['x', 'y', 'z', 'xx', 'yy', 'zz', 'xx', 'yy', 'zz', 'xxxx', 'yyyy', 'zzzz']\n",
    "[[2], [3], [4], [3], [4], [5], [4], [5], [6]]\n",
    "[[2, 3, 4, 5], [3, 4, 5, 6], [4, 5, 6, 7], [5, 6, 7, 8]]\n",
    "[(1, 1), (2, 1), (3, 1), (1, 2), (2, 2), (3, 2), (1, 3), (2, 3), (3, 3)]"
   ]
  },
  {
   "cell_type": "code",
   "execution_count": 3,
   "metadata": {},
   "outputs": [
    {
     "data": {
      "text/plain": [
       "['A', 'C', 'A', 'D', 'G', 'I', 'L', 'D']"
      ]
     },
     "execution_count": 3,
     "metadata": {},
     "output_type": "execute_result"
    }
   ],
   "source": [
    "s=\"ACADGILD\"\n",
    "[i for i in s]"
   ]
  },
  {
   "cell_type": "code",
   "execution_count": 4,
   "metadata": {},
   "outputs": [
    {
     "data": {
      "text/plain": [
       "['x', 'xx', 'xxx', 'xxxx', 'y', 'yy', 'yyy', 'yyyy', 'z', 'zz', 'zzz', 'zzzz']"
      ]
     },
     "execution_count": 4,
     "metadata": {},
     "output_type": "execute_result"
    }
   ],
   "source": [
    "a=\"xyz\"\n",
    "[i*j for i in a for j in range(1,5) ]\n",
    "     "
   ]
  },
  {
   "cell_type": "code",
   "execution_count": 5,
   "metadata": {},
   "outputs": [
    {
     "data": {
      "text/plain": [
       "['x', 'y', 'z', 'xx', 'yy', 'zz', 'xx', 'yy', 'zz', 'xx', 'yy', 'zz']"
      ]
     },
     "execution_count": 5,
     "metadata": {},
     "output_type": "execute_result"
    }
   ],
   "source": [
    "a=\"xyz\"\n",
    "c=[i for i in a] + [ i*j for i in a for j in range(2,4) if j!=3]+ [ i*j for i in a for j in range(2,4) if j!=3]+[ i*(j-1) for i in a for j in range(2,4) if j==3]\n",
    "c"
   ]
  },
  {
   "cell_type": "code",
   "execution_count": 6,
   "metadata": {},
   "outputs": [
    {
     "data": {
      "text/plain": [
       "[[2], [3], [4], [3], [4], [5], [4], [5], [6]]"
      ]
     },
     "execution_count": 6,
     "metadata": {},
     "output_type": "execute_result"
    }
   ],
   "source": [
    "\n",
    "b=[ [i+1 for j in range(0,1) ] for i in range(1,4)]+[[i+1 for j in range(0,1)] for i in range(2,5)]+[[i+1 for j in range(0,1)] for i in range(3,6)]\n",
    "b"
   ]
  },
  {
   "cell_type": "code",
   "execution_count": 7,
   "metadata": {},
   "outputs": [
    {
     "name": "stdout",
     "output_type": "stream",
     "text": [
      "[[2, 3, 4, 5], [3, 4, 5, 6], [4, 5, 6, 7], [5, 6, 7, 8]]\n"
     ]
    }
   ],
   "source": [
    "a=[2,3,4,5]\n",
    "b=[a]+[[i+1 for k in range(0,1) for j in range(0,1) for i in a]]+[[i+2 for k in range(0,1) for j in range(0,1) for i in a]]+[[i+3 for k in range(0,1) for j in range(0,1) for i in a]]\n",
    "#b= [a]+[b]\n",
    "print(b)\n"
   ]
  },
  {
   "cell_type": "code",
   "execution_count": 8,
   "metadata": {},
   "outputs": [
    {
     "data": {
      "text/plain": [
       "[(1, 1), (2, 1), (3, 1), (1, 2), (2, 2), (3, 2), (1, 3), (2, 3), (3, 3)]"
      ]
     },
     "execution_count": 8,
     "metadata": {},
     "output_type": "execute_result"
    }
   ],
   "source": [
    "a=[1,2,3]\n",
    "b=[(i,j) for j in a for i in a]\n",
    "b"
   ]
  },
  {
   "cell_type": "markdown",
   "metadata": {},
   "source": [
    "3.\n",
    "Implement a function longestWord() that takes a list of words and returns the longest one"
   ]
  },
  {
   "cell_type": "code",
   "execution_count": 9,
   "metadata": {},
   "outputs": [
    {
     "name": "stdout",
     "output_type": "stream",
     "text": [
      "Please enter list of words with space:jaya kamalathmika ananth shanmukha\n",
      "longest word in the list: ['jaya', 'kamalathmika', 'ananth', 'shanmukha']  is  kamalathmika\n"
     ]
    }
   ],
   "source": [
    "def longestword(string):\n",
    "    longestword=string[0]\n",
    "    for i in string:\n",
    "        if len(i)>=len(longestword):\n",
    "            longestword=i\n",
    "    return longestword\n",
    "\n",
    "L_O_W=input(\"Please enter list of words with space:\")\n",
    "b=L_O_W.split()\n",
    "print(\"longest word in the list:\",b,\" is \",longestword(b))"
   ]
  },
  {
   "cell_type": "markdown",
   "metadata": {},
   "source": [
    "# Task 2:"
   ]
  },
  {
   "cell_type": "raw",
   "metadata": {},
   "source": [
    "\n",
    "1.1\n",
    "Write a Python Program(with class concepts) to find the area of the triangle using the below\n",
    "formula.\n",
    "area = (s*(s-a)*(s-b)*(s-c)) ** 0.5\n",
    "Function to take the length of the sides of triangle from user should be defined in the parent\n",
    "class and function to calculate the area should be defined in subclass.\n"
   ]
  },
  {
   "cell_type": "code",
   "execution_count": 10,
   "metadata": {},
   "outputs": [],
   "source": [
    "class Triangle:\n",
    "    def __init__(self,side1,side2,side3):\n",
    "        self.side1=side1\n",
    "        self.side2=side2\n",
    "        self.side3=side3\n",
    "    "
   ]
  },
  {
   "cell_type": "code",
   "execution_count": 11,
   "metadata": {},
   "outputs": [],
   "source": [
    "class findArea(Triangle):\n",
    "        def __init__(self,*args):\n",
    "            super(findArea,self).__init__(*args)\n",
    "        def A(self):\n",
    "            self.s=(self.side1+self.side2+self.side3)/2\n",
    "            self.a=(self.s*(self.s-self.side1)*(self.s-self.side2)*(self.s-self.side3))**0.5\n",
    "            return self.a\n",
    "        \n",
    "            "
   ]
  },
  {
   "cell_type": "code",
   "execution_count": 12,
   "metadata": {},
   "outputs": [
    {
     "name": "stdout",
     "output_type": "stream",
     "text": [
      "3 4 5\n"
     ]
    },
    {
     "data": {
      "text/plain": [
       "6.0"
      ]
     },
     "execution_count": 12,
     "metadata": {},
     "output_type": "execute_result"
    }
   ],
   "source": [
    "p=findArea(3,4,5)\n",
    "print(p.side1,p.side2,p.side3)\n",
    "p.A()"
   ]
  },
  {
   "cell_type": "markdown",
   "metadata": {},
   "source": [
    "1.2\n",
    "Write a function filter_long_words() that takes a list of words and an integer n and returns the list\n",
    "of words that are longer than n.\n"
   ]
  },
  {
   "cell_type": "code",
   "execution_count": 13,
   "metadata": {},
   "outputs": [],
   "source": [
    "class L_O_W:\n",
    "    def __init__(self,string,n):\n",
    "        self.string=string\n",
    "        self.n=n\n",
    "    def filter_long_words(self,*args):\n",
    "        b=[]\n",
    "        for i in self.string:\n",
    "            if len(i)>self.n:\n",
    "                b.append(i)\n",
    "        return b"
   ]
  },
  {
   "cell_type": "code",
   "execution_count": 14,
   "metadata": {},
   "outputs": [
    {
     "name": "stdout",
     "output_type": "stream",
     "text": [
      "please enter list of words with space:this is best example for functions in classes\n",
      "['this', 'is', 'best', 'example', 'for', 'functions', 'in', 'classes']\n",
      "this is the list of words longer than  4  letters:  ['example', 'functions', 'classes']\n"
     ]
    }
   ],
   "source": [
    "a=input(\"please enter list of words with space:\")\n",
    "string=a.split()\n",
    "print(string)\n",
    "S=L_O_W(string,4)\n",
    "print(\"this is the list of words longer than \",S.n,\" letters: \",S.filter_long_words())"
   ]
  },
  {
   "cell_type": "markdown",
   "metadata": {},
   "source": [
    "2.1\n",
    "Write a Python program using function concept that maps list of words into a list of integers\n",
    "representing the lengths of the corresponding words.\n",
    "Hint: If a list [ ab,cde,erty] is passed on to the python function output should come as [2,3,4]\n",
    "Here 2,3 and 4 are the lengths of the words in the list."
   ]
  },
  {
   "cell_type": "code",
   "execution_count": 15,
   "metadata": {},
   "outputs": [
    {
     "name": "stdout",
     "output_type": "stream",
     "text": [
      "['jaya', 'shanmukha', 'ananth']\n"
     ]
    },
    {
     "data": {
      "text/plain": [
       "[4, 9, 6]"
      ]
     },
     "execution_count": 15,
     "metadata": {},
     "output_type": "execute_result"
    }
   ],
   "source": [
    "def words_to_integers(l):\n",
    "    count=0\n",
    "    for i in l:\n",
    "        for j in i:\n",
    "            count=count+1\n",
    "    return count\n",
    "l=['jaya',\"shanmukha\",\"ananth\"]\n",
    "print(l)\n",
    "list(map(words_to_integers,l))\n",
    "    "
   ]
  },
  {
   "cell_type": "markdown",
   "metadata": {},
   "source": [
    "2.2\n",
    "Write a Python function which takes a character (i.e. a string of length 1) and returns True if it is\n",
    "a vowel, False otherwise.\n",
    "NOTE: The solution shared through Github should contain the source code used  and\n",
    "the screenshot of the output."
   ]
  },
  {
   "cell_type": "code",
   "execution_count": 16,
   "metadata": {},
   "outputs": [
    {
     "name": "stdout",
     "output_type": "stream",
     "text": [
      "please enter an alphabetical character:a\n",
      "given character is vowel\n"
     ]
    }
   ],
   "source": [
    "l=['a','e','i','o','u']\n",
    "def isvowel(a):\n",
    "    if a.isalpha():\n",
    "        if a.lower() in l:\n",
    "            print(\"given character is vowel\")\n",
    "        else:\n",
    "            print(\"given character is not vowel\")\n",
    "    else:\n",
    "        print(\"did not entered a valid alphabetical character\")\n",
    "a=input(\"please enter an alphabetical character:\")\n",
    "isvowel(a)"
   ]
  },
  {
   "cell_type": "code",
   "execution_count": null,
   "metadata": {},
   "outputs": [],
   "source": []
  },
  {
   "cell_type": "code",
   "execution_count": null,
   "metadata": {},
   "outputs": [],
   "source": []
  }
 ],
 "metadata": {
  "kernelspec": {
   "display_name": "Python 3",
   "language": "python",
   "name": "python3"
  },
  "language_info": {
   "codemirror_mode": {
    "name": "ipython",
    "version": 3
   },
   "file_extension": ".py",
   "mimetype": "text/x-python",
   "name": "python",
   "nbconvert_exporter": "python",
   "pygments_lexer": "ipython3",
   "version": "3.7.3"
  }
 },
 "nbformat": 4,
 "nbformat_minor": 2
}
